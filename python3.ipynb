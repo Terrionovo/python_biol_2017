{
 "cells": [
  {
   "cell_type": "code",
   "execution_count": 84,
   "metadata": {},
   "outputs": [
    {
     "data": {
      "text/plain": [
       "'Král řekl Honzovi: \"Ta saň má 7 hlav! Zabij ji a dostaneš 1/2 království.\"'"
      ]
     },
     "execution_count": 84,
     "metadata": {},
     "output_type": "execute_result"
    }
   ],
   "source": [
    "'Král řekl Honzovi: \"Ta saň má 7 hlav! Zabij ji a dostaneš 1/2 království.\"'"
   ]
  },
  {
   "cell_type": "code",
   "execution_count": 191,
   "metadata": {
    "collapsed": true
   },
   "outputs": [],
   "source": [
    "pismeno = \"AaÁáBbCcČčDdĎďEeÉéĚěFfGgHhIiÍíJjKkLlMmNnŇňOoÓóPpQqRrŘřSsŠšTtŤťUuÚúŮůVvWwXxYyÝýZzŽž\"\n",
    "cislo = \"0123456789\"\n",
    "pac = \"0123456789AaÁáBbCcČčDdĎďEeÉéĚěFfGgHhIiÍíJjKkLlMmNnŇňOoÓóPpQqRrŘřSsŠšTtŤťUuÚúŮůVvWwXxYyÝýZzŽž\"\n",
    "a = 0\n",
    "b = 0\n",
    "c = 0\n",
    "for letter  in 'Král řekl Honzovi: \"Ta saň má 7 hlav! Zabij ji a dostaneš 1/2 království.\"':\n",
    "          if letter in pismeno:\n",
    "            a=a+1\n",
    "for letter  in 'Král řekl Honzovi: \"Ta saň má 7 hlav! Zabij ji a dostaneš 1/2 království.\"':     \n",
    "    if letter in cislo:\n",
    "            b=b+1\n",
    "for letter  in 'Král řekl Honzovi: \"Ta saň má 7 hlav! Zabij ji a dostaneš 1/2 království.\"':     \n",
    "    if letter not in pac:\n",
    "            c=c+1            \n",
    " \n",
    "    "
   ]
  },
  {
   "cell_type": "code",
   "execution_count": 192,
   "metadata": {},
   "outputs": [
    {
     "name": "stdout",
     "output_type": "stream",
     "text": [
      "Počet písmen je  52\n",
      "Počet číslic je  3\n",
      "Počet jiných znaků je  19\n"
     ]
    }
   ],
   "source": [
    "print (\"Počet písmen je \" , a)\n",
    "print (\"Počet číslic je \", b)\n",
    "print (\"Počet jiných znaků je \", c)"
   ]
  },
  {
   "cell_type": "code",
   "execution_count": 1,
   "metadata": {},
   "outputs": [
    {
     "name": "stdout",
     "output_type": "stream",
     "text": [
      "Věk kočky je : 83\n",
      "Lidský věk kočky je  430\n"
     ]
    }
   ],
   "source": [
    "x = int(input(\"Věk kočky je : \"))\n",
    "if x == 0:\n",
    "    print(\"Vy nemáte kočku\")\n",
    "elif x == 1:\n",
    "    print(\"Lidský věk kočky je 18\")\n",
    "elif x == 2:\n",
    "    print(\"Lidský věk kočky je 25\")\n",
    "else:\n",
    "    print(\"Lidský věk kočky je \", 25 + (x-2)*5)"
   ]
  },
  {
   "cell_type": "code",
   "execution_count": 96,
   "metadata": {},
   "outputs": [
    {
     "data": {
      "text/plain": [
       "20"
      ]
     },
     "execution_count": 96,
     "metadata": {},
     "output_type": "execute_result"
    }
   ],
   "source": [
    "x= 1\n",
    "25+(x-2)*5"
   ]
  },
  {
   "cell_type": "code",
   "execution_count": null,
   "metadata": {
    "collapsed": true
   },
   "outputs": [],
   "source": []
  }
 ],
 "metadata": {
  "kernelspec": {
   "display_name": "Python 3",
   "language": "python",
   "name": "python3"
  },
  "language_info": {
   "codemirror_mode": {
    "name": "ipython",
    "version": 3
   },
   "file_extension": ".py",
   "mimetype": "text/x-python",
   "name": "python",
   "nbconvert_exporter": "python",
   "pygments_lexer": "ipython3",
   "version": "3.6.1"
  }
 },
 "nbformat": 4,
 "nbformat_minor": 2
}
